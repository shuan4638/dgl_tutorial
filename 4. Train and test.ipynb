{
 "cells": [
  {
   "cell_type": "code",
   "execution_count": 1,
   "id": "e4e13abf",
   "metadata": {},
   "outputs": [],
   "source": [
    "from models import MyGNN\n",
    "from dataset import SmilesToGraph, get_dataloaders"
   ]
  },
  {
   "cell_type": "code",
   "execution_count": 18,
   "id": "10b668d9",
   "metadata": {},
   "outputs": [],
   "source": [
    "batch_size = 256\n",
    "model = MyGNN()\n",
    "train_loader, test_loader = get_dataloaders(batch_size=batch_size)"
   ]
  },
  {
   "cell_type": "markdown",
   "id": "a2b5e49d",
   "metadata": {},
   "source": [
    "# Train"
   ]
  },
  {
   "cell_type": "code",
   "execution_count": 19,
   "id": "761291e4",
   "metadata": {},
   "outputs": [],
   "source": [
    "import torch.nn as nn\n",
    "from torch.optim import Adam\n",
    "\n",
    "learning_rate = 0.001\n",
    "loss_function = nn.CrossEntropyLoss()\n",
    "optimizer = Adam(model.parameters(), lr=learning_rate)"
   ]
  },
  {
   "cell_type": "code",
   "execution_count": 20,
   "id": "00e775fc",
   "metadata": {},
   "outputs": [
    {
     "name": "stdout",
     "output_type": "stream",
     "text": [
      "Epoch 1\n"
     ]
    },
    {
     "name": "stderr",
     "output_type": "stream",
     "text": [
      "100%|██████████████████████████████████████████████████████████████████████████████████| 16/16 [00:15<00:00,  1.02it/s]\n"
     ]
    },
    {
     "name": "stdout",
     "output_type": "stream",
     "text": [
      "Epoch 2\n"
     ]
    },
    {
     "name": "stderr",
     "output_type": "stream",
     "text": [
      "100%|██████████████████████████████████████████████████████████████████████████████████| 16/16 [00:15<00:00,  1.06it/s]\n"
     ]
    },
    {
     "name": "stdout",
     "output_type": "stream",
     "text": [
      "Epoch 3\n"
     ]
    },
    {
     "name": "stderr",
     "output_type": "stream",
     "text": [
      "100%|██████████████████████████████████████████████████████████████████████████████████| 16/16 [00:15<00:00,  1.05it/s]\n"
     ]
    },
    {
     "name": "stdout",
     "output_type": "stream",
     "text": [
      "Epoch 4\n"
     ]
    },
    {
     "name": "stderr",
     "output_type": "stream",
     "text": [
      "100%|██████████████████████████████████████████████████████████████████████████████████| 16/16 [00:15<00:00,  1.05it/s]\n"
     ]
    },
    {
     "name": "stdout",
     "output_type": "stream",
     "text": [
      "Epoch 5\n"
     ]
    },
    {
     "name": "stderr",
     "output_type": "stream",
     "text": [
      "100%|██████████████████████████████████████████████████████████████████████████████████| 16/16 [00:15<00:00,  1.05it/s]\n"
     ]
    },
    {
     "name": "stdout",
     "output_type": "stream",
     "text": [
      "Epoch 6\n"
     ]
    },
    {
     "name": "stderr",
     "output_type": "stream",
     "text": [
      "100%|██████████████████████████████████████████████████████████████████████████████████| 16/16 [00:15<00:00,  1.05it/s]\n"
     ]
    },
    {
     "name": "stdout",
     "output_type": "stream",
     "text": [
      "Epoch 7\n"
     ]
    },
    {
     "name": "stderr",
     "output_type": "stream",
     "text": [
      "100%|██████████████████████████████████████████████████████████████████████████████████| 16/16 [00:15<00:00,  1.06it/s]\n"
     ]
    },
    {
     "name": "stdout",
     "output_type": "stream",
     "text": [
      "Epoch 8\n"
     ]
    },
    {
     "name": "stderr",
     "output_type": "stream",
     "text": [
      "100%|██████████████████████████████████████████████████████████████████████████████████| 16/16 [00:15<00:00,  1.06it/s]\n"
     ]
    },
    {
     "name": "stdout",
     "output_type": "stream",
     "text": [
      "Epoch 9\n"
     ]
    },
    {
     "name": "stderr",
     "output_type": "stream",
     "text": [
      "100%|██████████████████████████████████████████████████████████████████████████████████| 16/16 [00:15<00:00,  1.06it/s]\n"
     ]
    },
    {
     "name": "stdout",
     "output_type": "stream",
     "text": [
      "Epoch 10\n"
     ]
    },
    {
     "name": "stderr",
     "output_type": "stream",
     "text": [
      "100%|██████████████████████████████████████████████████████████████████████████████████| 16/16 [00:15<00:00,  1.06it/s]\n"
     ]
    }
   ],
   "source": [
    "from tqdm import tqdm \n",
    "\n",
    "n_epochs = 10\n",
    "for epoch in range(n_epochs):\n",
    "    print ('Epoch %d' % (epoch+1))\n",
    "    for data in tqdm(train_loader, total=len(train_loader)):\n",
    "        batch_graph, labels = data\n",
    "        predictions = model(batch_graph)\n",
    "        loss = loss_function(predictions, labels)\n",
    "        optimizer.zero_grad()      \n",
    "        loss.backward()\n",
    "        optimizer.step()"
   ]
  },
  {
   "cell_type": "markdown",
   "id": "64929c95",
   "metadata": {},
   "source": [
    "# Test"
   ]
  },
  {
   "cell_type": "code",
   "execution_count": 22,
   "id": "2bf91f6c",
   "metadata": {},
   "outputs": [
    {
     "name": "stderr",
     "output_type": "stream",
     "text": [
      "  0%|                                                                                            | 0/4 [00:00<?, ?it/s]"
     ]
    },
    {
     "name": "stdout",
     "output_type": "stream",
     "text": [
      "tensor(0.2461)\n"
     ]
    },
    {
     "name": "stderr",
     "output_type": "stream",
     "text": [
      "\n"
     ]
    }
   ],
   "source": [
    "import torch\n",
    "\n",
    "model.eval()\n",
    "all_predictions = []\n",
    "for data in tqdm(test_loader, total=len(test_loader)):\n",
    "    batch_graph, labels = data\n",
    "    predictions = model(batch_graph)\n",
    "    predictions = torch.argmax(predictions, dim=-1)\n",
    "    corrections = [p == l for p, l in zip(predictions, labels)]\n",
    "    acc = sum(corrections)/len(corrections)\n",
    "    print (acc)\n",
    "#     print ()\n",
    "    break"
   ]
  },
  {
   "cell_type": "code",
   "execution_count": 6,
   "id": "d34ed01a",
   "metadata": {},
   "outputs": [
    {
     "data": {
      "text/plain": [
       "tensor([[ 0.8600,  0.5594,  0.1120,  0.5332,  0.6789,  0.1538,  0.3045,  0.9405,\n",
       "          0.0596, -0.0738,  0.1534, -0.0742,  0.3480, -0.3462, -0.2500, -0.1370,\n",
       "         -0.1287, -0.5350,  0.2653, -0.4112, -0.5687, -0.3801,  0.4855, -0.2868,\n",
       "          0.0227, -0.2388, -2.0422, -0.5740,  0.3878,  0.2262, -0.6050,  0.5251,\n",
       "         -0.1180, -0.4173, -0.1187,  0.0847, -1.1830, -0.7340,  0.2439, -0.5805,\n",
       "         -0.5934, -0.6270, -0.3055, -0.8588, -0.3376, -0.7525, -1.6873,  0.0985,\n",
       "         -0.7677, -1.0925, -0.5303, -1.3086,  0.1366, -0.1738, -0.7276, -0.8186,\n",
       "         -0.9553, -0.7211, -0.4062, -1.1862, -0.8505, -0.3808, -0.7885, -0.5526,\n",
       "         -0.9489, -0.4026, -0.5698, -0.4786, -1.1343, -0.6465,  0.0500, -1.0737,\n",
       "         -0.8266, -0.8699, -0.3994, -0.5639, -0.1870, -0.1035, -0.6466, -0.6684,\n",
       "         -0.9446,  0.3566, -0.2219, -0.9387, -0.7919, -0.5515, -0.5154, -1.3159,\n",
       "         -0.3293, -1.1472, -0.9455, -0.6593, -1.4176, -1.6307, -0.8482, -0.8330,\n",
       "         -1.5262, -1.1636, -1.4319, -0.4296]], grad_fn=<AddmmBackward0>)"
      ]
     },
     "execution_count": 6,
     "metadata": {},
     "output_type": "execute_result"
    }
   ],
   "source": [
    "smi = 'CC(O)CN'\n",
    "graph = SmilesToGraph(smi)\n",
    "model(graph)"
   ]
  },
  {
   "cell_type": "markdown",
   "id": "34682aec",
   "metadata": {},
   "source": [
    "# Tasks\n",
    "### 1. Change the model (hidden_dim, n_layer...) or hyperparameters (n_epochs, batch_size, and learning rate) and compare their performance.\n",
    "### 2. Make a function called get_odor() to get the odor of a given smiles.\n",
    "### 3. Multi-label predictions"
   ]
  },
  {
   "cell_type": "code",
   "execution_count": null,
   "id": "07d391d8",
   "metadata": {},
   "outputs": [],
   "source": []
  }
 ],
 "metadata": {
  "kernelspec": {
   "display_name": "Python 3 (ipykernel)",
   "language": "python",
   "name": "python3"
  },
  "language_info": {
   "codemirror_mode": {
    "name": "ipython",
    "version": 3
   },
   "file_extension": ".py",
   "mimetype": "text/x-python",
   "name": "python",
   "nbconvert_exporter": "python",
   "pygments_lexer": "ipython3",
   "version": "3.7.1"
  }
 },
 "nbformat": 4,
 "nbformat_minor": 5
}
