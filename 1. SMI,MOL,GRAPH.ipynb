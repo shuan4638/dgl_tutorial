{
 "cells": [
  {
   "cell_type": "markdown",
   "id": "5da1e67b",
   "metadata": {},
   "source": [
    "# Requirements\n",
    "1. rdkit (pip install rdkit-pypi)\n",
    "2. dgl (pip install dgl)\n",
    "3. dgllife (pip install dgllife)"
   ]
  },
  {
   "cell_type": "markdown",
   "id": "3a503835",
   "metadata": {},
   "source": [
    "## 1. RDKit: SMILES To Mol"
   ]
  },
  {
   "cell_type": "code",
   "execution_count": 2,
   "id": "318c3119",
   "metadata": {},
   "outputs": [
    {
     "data": {
      "image/png": "[encoded data removed]",
      "text/plain": [
       "<rdkit.Chem.rdchem.Mol at 0x27fe5e68a80>"
      ]
     },
     "execution_count": 2,
     "metadata": {},
     "output_type": "execute_result"
    }
   ],
   "source": [
    "import rdkit\n",
    "from rdkit import Chem\n",
    "\n",
    "smi = 'CC(O)CN'\n",
    "mol = Chem.MolFromSmiles(smi)\n",
    "mol"
   ]
  },
  {
   "cell_type": "code",
   "execution_count": 18,
   "id": "4c0523fa",
   "metadata": {},
   "outputs": [
    {
     "name": "stdout",
     "output_type": "stream",
     "text": [
      "0 C\n",
      "1 C\n",
      "2 O\n",
      "3 C\n",
      "4 N\n"
     ]
    },
    {
     "data": {
      "image/png": "[encoded data removed]",
      "text/plain": [
       "<rdkit.Chem.rdchem.Mol at 0x27fe5e68a80>"
      ]
     },
     "execution_count": 18,
     "metadata": {},
     "output_type": "execute_result"
    }
   ],
   "source": [
    "for atom in mol.GetAtoms():\n",
    "    atom_idx = atom.GetIdx()\n",
    "    print (atom_idx, atom.GetSymbol())\n",
    "    atom.SetAtomMapNum(atom_idx)\n",
    "mol"
   ]
  },
  {
   "cell_type": "markdown",
   "id": "6bfcdd15",
   "metadata": {},
   "source": [
    "## 2. Deep Graph Library (DGL): Mol to Graph"
   ]
  },
  {
   "cell_type": "code",
   "execution_count": 15,
   "id": "7ecdcd8e",
   "metadata": {},
   "outputs": [
    {
     "data": {
      "text/plain": [
       "Graph(num_nodes=5, num_edges=8,\n",
       "      ndata_schemes={'h': Scheme(shape=(74,), dtype=torch.float32)}\n",
       "      edata_schemes={'e': Scheme(shape=(12,), dtype=torch.float32)})"
      ]
     },
     "execution_count": 15,
     "metadata": {},
     "output_type": "execute_result"
    }
   ],
   "source": [
    "from dgllife.utils import mol_to_bigraph, CanonicalAtomFeaturizer, CanonicalBondFeaturizer\n",
    "\n",
    "node_featurizer = CanonicalAtomFeaturizer() \n",
    "edge_featurizer = CanonicalBondFeaturizer()\n",
    "graph = mol_to_bigraph(mol, node_featurizer = node_featurizer, edge_featurizer = edge_featurizer)\n",
    "graph"
   ]
  },
  {
   "cell_type": "code",
   "execution_count": 16,
   "id": "09e3037d",
   "metadata": {},
   "outputs": [
    {
     "name": "stdout",
     "output_type": "stream",
     "text": [
      "Nodes:\n",
      "tensor([0, 1, 2, 3, 4], dtype=torch.int32)\n",
      "Source:\n",
      "tensor([0, 4, 4, 2, 4, 3, 3, 1], dtype=torch.int32)\n",
      "Destination\n",
      "tensor([4, 0, 2, 4, 3, 4, 1, 3], dtype=torch.int32)\n"
     ]
    }
   ],
   "source": [
    "nodes = graph.nodes()\n",
    "src, dst = graph.edges()\n",
    "print ('Nodes:')\n",
    "print (nodes)\n",
    "print ('Source:')\n",
    "print (src)\n",
    "print ('Destination')\n",
    "print (dst)"
   ]
  },
  {
   "cell_type": "code",
   "execution_count": 21,
   "id": "b804740a",
   "metadata": {},
   "outputs": [],
   "source": [
    "node_feats = graph.ndata['h']\n",
    "edge_feats = graph.edata['e']"
   ]
  },
  {
   "cell_type": "code",
   "execution_count": 24,
   "id": "69195417",
   "metadata": {},
   "outputs": [
    {
     "data": {
      "text/plain": [
       "tensor([1., 0., 0., 0., 0., 0., 0., 0., 0., 0., 0., 0., 0., 0., 0., 0., 0., 0.,\n",
       "        0., 0., 0., 0., 0., 0., 0., 0., 0., 0., 0., 0., 0., 0., 0., 0., 0., 0.,\n",
       "        0., 0., 0., 0., 0., 0., 0., 0., 1., 0., 0., 0., 0., 0., 0., 0., 0., 0.,\n",
       "        0., 0., 0., 1., 0., 0., 0., 0., 0., 0., 0., 1., 0., 0., 0., 0., 0., 0.,\n",
       "        1., 0.])"
      ]
     },
     "execution_count": 24,
     "metadata": {},
     "output_type": "execute_result"
    }
   ],
   "source": [
    "node_feats[0]"
   ]
  },
  {
   "cell_type": "markdown",
   "id": "650b77df",
   "metadata": {},
   "source": [
    "# Tasks\n",
    "### 1. Make dgl graphs for three molecules from the odor dataset and check their node and edges\n",
    "### 2. Make a function called make_graph() to input a SMILES and output Graph"
   ]
  }
 ],
 "metadata": {
  "kernelspec": {
   "display_name": "Python 3 (ipykernel)",
   "language": "python",
   "name": "python3"
  },
  "language_info": {
   "codemirror_mode": {
    "name": "ipython",
    "version": 3
   },
   "file_extension": ".py",
   "mimetype": "text/x-python",
   "name": "python",
   "nbconvert_exporter": "python",
   "pygments_lexer": "ipython3",
   "version": "3.7.1"
  }
 },
 "nbformat": 4,
 "nbformat_minor": 5
}
