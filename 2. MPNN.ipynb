{
 "cells": [
  {
   "cell_type": "code",
   "execution_count": 1,
   "id": "fdc3938c",
   "metadata": {},
   "outputs": [],
   "source": [
    "from rdkit import Chem\n",
    "from dgllife.utils import mol_to_bigraph, CanonicalAtomFeaturizer, CanonicalBondFeaturizer\n",
    "\n",
    "def SmilesToGraph(smi):\n",
    "    mol = Chem.MolFromSmiles(smi)\n",
    "    node_featurizer = CanonicalAtomFeaturizer() \n",
    "    edge_featurizer = CanonicalBondFeaturizer()\n",
    "    graph = mol_to_bigraph(mol, node_featurizer = node_featurizer, edge_featurizer = edge_featurizer)\n",
    "    return graph"
   ]
  },
  {
   "cell_type": "code",
   "execution_count": 7,
   "id": "6142a8c9",
   "metadata": {},
   "outputs": [],
   "source": [
    "import torch\n",
    "import torch.nn as nn\n",
    "\n",
    "import dgl\n",
    "import dgllife\n",
    "from dgllife.model import MPNNGNN, WeightedSumAndMax    \n",
    "\n",
    "class MyGNN(nn.Module):\n",
    "    def __init__(self,\n",
    "                 node_in_feats=74,\n",
    "                 edge_in_feats=12,\n",
    "                 node_hidden_dim=64,\n",
    "                 edge_hidden_feats=32,\n",
    "                 num_step_message_passing=3,\n",
    "                 n_classes = 100):\n",
    "        \n",
    "        super(MyGNN, self).__init__()\n",
    "                \n",
    "        self.mpnn = MPNNGNN(node_in_feats=node_in_feats,\n",
    "                           node_out_feats=node_hidden_dim,\n",
    "                           edge_in_feats=edge_in_feats,\n",
    "                           edge_hidden_feats=edge_hidden_feats,\n",
    "                           num_step_message_passing=num_step_message_passing)\n",
    "        \n",
    "        self.readout = WeightedSumAndMax(node_hidden_dim)\n",
    "        \n",
    "        self.ff = nn.Linear(node_hidden_dim*2, n_classes)\n",
    "        \n",
    "    def forward(self, graph):\n",
    "        # get features from graph\n",
    "        node_feats = graph.ndata['h']\n",
    "        edge_feats = graph.edata['e']\n",
    "        # message passing\n",
    "        node_feats = self.mpnn(graph, node_feats, edge_feats)\n",
    "        # readout\n",
    "        readout = self.readout(graph, node_feats)\n",
    "        # linear mlp\n",
    "        output = self.ff(readout)\n",
    "        return output"
   ]
  },
  {
   "cell_type": "code",
   "execution_count": 8,
   "id": "18641d53",
   "metadata": {},
   "outputs": [
    {
     "data": {
      "text/plain": [
       "Graph(num_nodes=5, num_edges=8,\n",
       "      ndata_schemes={'h': Scheme(shape=(74,), dtype=torch.float32)}\n",
       "      edata_schemes={'e': Scheme(shape=(12,), dtype=torch.float32)})"
      ]
     },
     "execution_count": 8,
     "metadata": {},
     "output_type": "execute_result"
    }
   ],
   "source": [
    "import rdkit\n",
    "from rdkit import Chem\n",
    "from dgllife.utils import mol_to_bigraph, CanonicalAtomFeaturizer, CanonicalBondFeaturizer\n",
    "\n",
    "smi = 'CC(O)CN'\n",
    "graph = SmilesToGraph(smi)\n",
    "graph"
   ]
  },
  {
   "cell_type": "code",
   "execution_count": 9,
   "id": "1f72a5c8",
   "metadata": {},
   "outputs": [
    {
     "data": {
      "text/plain": [
       "torch.Size([1, 100])"
      ]
     },
     "execution_count": 9,
     "metadata": {},
     "output_type": "execute_result"
    }
   ],
   "source": [
    "model = MyGNN()\n",
    "output = model(graph)\n",
    "output.shape"
   ]
  },
  {
   "cell_type": "markdown",
   "id": "2adc0197",
   "metadata": {},
   "source": [
    "# Batch graph"
   ]
  },
  {
   "cell_type": "code",
   "execution_count": 10,
   "id": "d0d8fc6d",
   "metadata": {},
   "outputs": [
    {
     "data": {
      "text/plain": [
       "Graph(num_nodes=12, num_edges=20,\n",
       "      ndata_schemes={'h': Scheme(shape=(74,), dtype=torch.float32)}\n",
       "      edata_schemes={'e': Scheme(shape=(12,), dtype=torch.float32)})"
      ]
     },
     "execution_count": 10,
     "metadata": {},
     "output_type": "execute_result"
    }
   ],
   "source": [
    "smi1 =  'CC(O)CN'\n",
    "smi2 =  'CC(O)CNOO'\n",
    "batch_graph = dgl.batch([SmilesToGraph(smi1), SmilesToGraph(smi2)])\n",
    "batch_graph"
   ]
  },
  {
   "cell_type": "code",
   "execution_count": 12,
   "id": "e57fb7fb",
   "metadata": {},
   "outputs": [
    {
     "data": {
      "text/plain": [
       "torch.Size([2, 100])"
      ]
     },
     "execution_count": 12,
     "metadata": {},
     "output_type": "execute_result"
    }
   ],
   "source": [
    "output = model(batch_graph)\n",
    "output.shape"
   ]
  },
  {
   "cell_type": "markdown",
   "id": "aecd419a",
   "metadata": {},
   "source": [
    "# Tasks\n",
    "### 1. change the node_hidden_dim and add ReLU in the classification layer \n",
    "### 2. See the dimension of each tensor (node_feats, readout, output)\n",
    "### 3. Make a models.py and import the model from the file"
   ]
  },
  {
   "cell_type": "code",
   "execution_count": null,
   "id": "ebb51aa1",
   "metadata": {},
   "outputs": [],
   "source": []
  }
 ],
 "metadata": {
  "kernelspec": {
   "display_name": "Python 3 (ipykernel)",
   "language": "python",
   "name": "python3"
  },
  "language_info": {
   "codemirror_mode": {
    "name": "ipython",
    "version": 3
   },
   "file_extension": ".py",
   "mimetype": "text/x-python",
   "name": "python",
   "nbconvert_exporter": "python",
   "pygments_lexer": "ipython3",
   "version": "3.7.1"
  }
 },
 "nbformat": 4,
 "nbformat_minor": 5
}
