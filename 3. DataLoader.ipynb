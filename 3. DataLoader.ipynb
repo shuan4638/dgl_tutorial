{
 "cells": [
  {
   "cell_type": "code",
   "execution_count": 1,
   "id": "301f3482",
   "metadata": {},
   "outputs": [],
   "source": [
    "from rdkit import Chem\n",
    "from dgllife.utils import mol_to_bigraph, CanonicalAtomFeaturizer, CanonicalBondFeaturizer\n",
    "\n",
    "def MolToGraph(smi):\n",
    "    mol = Chem.MolFromSmiles(smi)\n",
    "    node_featurizer = CanonicalAtomFeaturizer() \n",
    "    edge_featurizer = CanonicalBondFeaturizer()\n",
    "    graph = mol_to_bigraph(mol, node_featurizer = node_featurizer, edge_featurizer = edge_featurizer)\n",
    "    return graph"
   ]
  },
  {
   "cell_type": "code",
   "execution_count": 2,
   "id": "b47039f1",
   "metadata": {},
   "outputs": [
    {
     "data": {
      "text/html": [
       "<div>\n",
       "<style scoped>\n",
       "    .dataframe tbody tr th:only-of-type {\n",
       "        vertical-align: middle;\n",
       "    }\n",
       "\n",
       "    .dataframe tbody tr th {\n",
       "        vertical-align: top;\n",
       "    }\n",
       "\n",
       "    .dataframe thead th {\n",
       "        text-align: right;\n",
       "    }\n",
       "</style>\n",
       "<table border=\"1\" class=\"dataframe\">\n",
       "  <thead>\n",
       "    <tr style=\"text-align: right;\">\n",
       "      <th></th>\n",
       "      <th>SMILES</th>\n",
       "      <th>Odor</th>\n",
       "      <th>Class</th>\n",
       "      <th>Split</th>\n",
       "    </tr>\n",
       "  </thead>\n",
       "  <tbody>\n",
       "    <tr>\n",
       "      <th>0</th>\n",
       "      <td>CC(O)CN</td>\n",
       "      <td>fishy</td>\n",
       "      <td>79</td>\n",
       "      <td>train</td>\n",
       "    </tr>\n",
       "    <tr>\n",
       "      <th>1</th>\n",
       "      <td>CCC(=O)C(=O)O</td>\n",
       "      <td>fatty</td>\n",
       "      <td>6</td>\n",
       "      <td>train</td>\n",
       "    </tr>\n",
       "    <tr>\n",
       "      <th>2</th>\n",
       "      <td>O=C(O)CCc1ccccc1</td>\n",
       "      <td>rose</td>\n",
       "      <td>15</td>\n",
       "      <td>train</td>\n",
       "    </tr>\n",
       "    <tr>\n",
       "      <th>3</th>\n",
       "      <td>OCc1ccc(O)cc1</td>\n",
       "      <td>medicinal</td>\n",
       "      <td>88</td>\n",
       "      <td>train</td>\n",
       "    </tr>\n",
       "    <tr>\n",
       "      <th>4</th>\n",
       "      <td>O=Cc1ccc(O)cc1</td>\n",
       "      <td>phenolic</td>\n",
       "      <td>33</td>\n",
       "      <td>train</td>\n",
       "    </tr>\n",
       "  </tbody>\n",
       "</table>\n",
       "</div>"
      ],
      "text/plain": [
       "             SMILES       Odor  Class  Split\n",
       "0           CC(O)CN      fishy     79  train\n",
       "1     CCC(=O)C(=O)O      fatty      6  train\n",
       "2  O=C(O)CCc1ccccc1       rose     15  train\n",
       "3     OCc1ccc(O)cc1  medicinal     88  train\n",
       "4    O=Cc1ccc(O)cc1   phenolic     33  train"
      ]
     },
     "execution_count": 2,
     "metadata": {},
     "output_type": "execute_result"
    }
   ],
   "source": [
    "import pandas as pd\n",
    "df = pd.read_csv('odor_dataset.csv')\n",
    "df.head()"
   ]
  },
  {
   "cell_type": "code",
   "execution_count": 4,
   "id": "c515fe38",
   "metadata": {
    "scrolled": true
   },
   "outputs": [
    {
     "data": {
      "text/plain": [
       "{79: 'fishy',\n",
       " 6: 'fatty',\n",
       " 15: 'rose',\n",
       " 88: 'medicinal',\n",
       " 33: 'phenolic',\n",
       " 14: 'nutty',\n",
       " 29: 'pungent',\n",
       " 7: 'fresh',\n",
       " 46: 'pear',\n",
       " 86: 'sour',\n",
       " 76: 'cherry',\n",
       " 32: 'burnt',\n",
       " 0: 'fruity',\n",
       " 2: 'sweet',\n",
       " 31: 'cheesy',\n",
       " 65: 'clean',\n",
       " 9: 'spicy',\n",
       " 1: 'green',\n",
       " 35: 'powdery',\n",
       " 58: 'sharp',\n",
       " 16: 'earthy',\n",
       " 18: 'roasted',\n",
       " 41: 'buttery',\n",
       " 4: 'herbal',\n",
       " 24: 'mint',\n",
       " 28: 'odorless',\n",
       " 94: 'bitter',\n",
       " 23: 'caramellic',\n",
       " 10: 'sulfurous',\n",
       " 47: 'savory',\n",
       " 70: 'rummy',\n",
       " 8: 'waxy',\n",
       " 90: 'chocolate',\n",
       " 73: 'cooked',\n",
       " 77: 'cooling',\n",
       " 55: 'vanilla',\n",
       " 27: 'musty',\n",
       " 74: 'anisic',\n",
       " 12: 'tropical',\n",
       " 5: 'woody',\n",
       " 11: 'oily',\n",
       " 75: 'ripe',\n",
       " 52: 'garlic',\n",
       " 57: 'alcoholic',\n",
       " 42: 'leafy',\n",
       " 3: 'floral',\n",
       " 25: 'winey',\n",
       " 97: 'plum',\n",
       " 38: 'berry',\n",
       " 81: 'apricot',\n",
       " 44: 'camphoreous',\n",
       " 50: 'animal',\n",
       " 63: 'musk',\n",
       " 60: 'tobacco',\n",
       " 36: 'dry',\n",
       " 87: 'smoky',\n",
       " 66: 'warm',\n",
       " 68: 'coconut',\n",
       " 43: 'metallic',\n",
       " 48: 'banana',\n",
       " 99: 'solvent',\n",
       " 39: 'fermented',\n",
       " 61: 'amber',\n",
       " 45: 'melon',\n",
       " 62: 'mushroom',\n",
       " 22: 'vegetable',\n",
       " 91: 'lactonic',\n",
       " 34: 'onion',\n",
       " 84: 'hay',\n",
       " 21: 'ethereal',\n",
       " 80: 'pine',\n",
       " 20: 'balsamic',\n",
       " 13: 'citrus',\n",
       " 37: 'honey',\n",
       " 56: 'coffee',\n",
       " 67: 'peach',\n",
       " 53: 'cocoa',\n",
       " 82: 'natural',\n",
       " 59: 'jasmin',\n",
       " 30: 'creamy',\n",
       " 40: 'aldehydic',\n",
       " 72: 'milky',\n",
       " 96: 'geranium',\n",
       " 95: 'grassy',\n",
       " 78: 'lemon',\n",
       " 92: 'cinnamon',\n",
       " 89: 'lily',\n",
       " 54: 'cognac',\n",
       " 19: 'meaty',\n",
       " 83: 'aromatic',\n",
       " 71: 'almond',\n",
       " 17: 'apple',\n",
       " 98: 'coumarinic',\n",
       " 49: 'alliaceous',\n",
       " 64: 'orange',\n",
       " 69: 'grape',\n",
       " 85: 'grapefruit',\n",
       " 51: 'dairy',\n",
       " 93: 'violet'}"
      ]
     },
     "execution_count": 4,
     "metadata": {},
     "output_type": "execute_result"
    }
   ],
   "source": [
    "label_dict = {}\n",
    "for odor, label in zip(df['Odor'], df['Class']):\n",
    "    label_dict[label] = odor\n",
    "    \n",
    "label_dict"
   ]
  },
  {
   "cell_type": "code",
   "execution_count": 29,
   "id": "cc17e386",
   "metadata": {},
   "outputs": [],
   "source": [
    "\n",
    "class DGLDataset(object):\n",
    "    def __init__(self, file_path='odor_dataset.csv', split='train'):\n",
    "        df = pd.read_csv(file_path)\n",
    "        self.X = [smi for smi, spl in zip(df['SMILES'], df['Split']) if spl == split]\n",
    "        self.Y = [smi for smi, spl in zip(df['Class'], df['Split']) if spl == split]\n",
    "\n",
    "    def __getitem__(self, item):\n",
    "        smi, label = self.X[item], self.Y[item]\n",
    "        graph = MolToGraph(smi)\n",
    "        return graph, label\n",
    "\n",
    "    def __len__(self):\n",
    "        return len(self.X)"
   ]
  },
  {
   "cell_type": "code",
   "execution_count": 37,
   "id": "140b2749",
   "metadata": {},
   "outputs": [],
   "source": [
    "import torch.nn as nn\n",
    "from torch.utils.data import DataLoader\n",
    "\n",
    "def collate_molgraphs(data):\n",
    "    graphs, labels = map(list, zip(*data))\n",
    "    batch_graph = dgl.batch(graphs)\n",
    "    return batch_graph, torch.LongTensor(labels)\n",
    "\n",
    "batch_size = 10\n",
    "train_set = DGLDataset(split='train')\n",
    "train_loader = DataLoader(dataset=train_set, batch_size=batch_size, collate_fn=collate_molgraphs, shuffle=True)"
   ]
  },
  {
   "cell_type": "code",
   "execution_count": 38,
   "id": "9f9e142f",
   "metadata": {},
   "outputs": [
    {
     "name": "stdout",
     "output_type": "stream",
     "text": [
      "(Graph(num_nodes=109, num_edges=208,\n",
      "      ndata_schemes={'h': Scheme(shape=(74,), dtype=torch.float32)}\n",
      "      edata_schemes={'e': Scheme(shape=(12,), dtype=torch.float32)}), tensor([50,  3,  3,  6,  1, 12, 31, 59, 47,  6]))\n"
     ]
    }
   ],
   "source": [
    "for data in train_loader:\n",
    "    print (data)\n",
    "    break"
   ]
  },
  {
   "cell_type": "markdown",
   "id": "323f199a",
   "metadata": {},
   "source": [
    "# Tasks\n",
    "### 1. Make a function called get_dataloaders() that you can get test dataloader and train dataloader in one line\n",
    "### 2. Instead of (graph, label), make the dataloader to give (smiles, graph, label)\n",
    "### 3. Make a dataset.py file that you can import get_dataloaders() function"
   ]
  },
  {
   "cell_type": "code",
   "execution_count": null,
   "id": "87b42d51",
   "metadata": {},
   "outputs": [],
   "source": []
  }
 ],
 "metadata": {
  "kernelspec": {
   "display_name": "Python 3 (ipykernel)",
   "language": "python",
   "name": "python3"
  },
  "language_info": {
   "codemirror_mode": {
    "name": "ipython",
    "version": 3
   },
   "file_extension": ".py",
   "mimetype": "text/x-python",
   "name": "python",
   "nbconvert_exporter": "python",
   "pygments_lexer": "ipython3",
   "version": "3.7.1"
  }
 },
 "nbformat": 4,
 "nbformat_minor": 5
}
